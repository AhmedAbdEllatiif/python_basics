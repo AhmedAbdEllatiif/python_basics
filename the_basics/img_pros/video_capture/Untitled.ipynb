{
 "cells": [
  {
   "cell_type": "code",
   "execution_count": 12,
   "id": "sporting-experience",
   "metadata": {},
   "outputs": [],
   "source": [
    "def foo():\n",
    "    for i in range(1, 101):\n",
    "        print(i)\n",
    "    print(\"Hii\")"
   ]
  },
  {
   "cell_type": "code",
   "execution_count": 1,
   "id": "measured-oliver",
   "metadata": {},
   "outputs": [],
   "source": [
    "import pandas"
   ]
  },
  {
   "cell_type": "code",
   "execution_count": 3,
   "id": "medieval-shore",
   "metadata": {},
   "outputs": [],
   "source": [
    "data = pandas.read_csv(\"Times.csv\") "
   ]
  },
  {
   "cell_type": "code",
   "execution_count": 4,
   "id": "identical-bicycle",
   "metadata": {},
   "outputs": [
    {
     "name": "stdout",
     "output_type": "stream",
     "text": [
      "   Unnamed: 0              Start                End\n",
      "0           0  01/31/21 07:36:20  01/31/21 07:36:22\n",
      "1           1  01/31/21 07:36:24  01/31/21 07:36:26\n",
      "2           2  01/31/21 07:36:28  01/31/21 07:36:29\n"
     ]
    }
   ],
   "source": [
    "print(data)"
   ]
  },
  {
   "cell_type": "code",
   "execution_count": null,
   "id": "alpha-lover",
   "metadata": {},
   "outputs": [],
   "source": []
  }
 ],
 "metadata": {
  "kernelspec": {
   "display_name": "Python 3",
   "language": "python",
   "name": "python3"
  },
  "language_info": {
   "codemirror_mode": {
    "name": "ipython",
    "version": 3
   },
   "file_extension": ".py",
   "mimetype": "text/x-python",
   "name": "python",
   "nbconvert_exporter": "python",
   "pygments_lexer": "ipython3",
   "version": "3.9.1"
  }
 },
 "nbformat": 4,
 "nbformat_minor": 5
}
