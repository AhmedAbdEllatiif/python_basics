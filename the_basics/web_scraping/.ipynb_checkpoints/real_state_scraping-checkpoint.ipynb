{
 "cells": [
  {
   "cell_type": "code",
   "execution_count": 2,
   "id": "grateful-eagle",
   "metadata": {},
   "outputs": [],
   "source": [
    "import requests\n",
    "from bs4 import BeautifulSoup as bs"
   ]
  },
  {
   "cell_type": "code",
   "execution_count": 23,
   "id": "breathing-trial",
   "metadata": {},
   "outputs": [],
   "source": [
    "r = requests.get(\"https://www.century21.com/real-estate/rock-springs-wy/LCWYROCKSPRINGS/\")\n",
    "c = r.content                          "
   ]
  },
  {
   "cell_type": "code",
   "execution_count": 55,
   "id": "tribal-image",
   "metadata": {},
   "outputs": [
    {
     "name": "stdout",
     "output_type": "stream",
     "text": [
      "['$139,000', '$245,000', '$225,000', '$325,000', '$390,000', '$127,500', '$990,999']\n"
     ]
    }
   ],
   "source": [
    "soup = bs(c,\"html.parser\")\n",
    "all_prices = soup.find_all(\"a\",{\"class\" : \"listing-price\"})\n",
    "prices = []\n",
    "for price in all_prices:\n",
    "    text =price.text\n",
    "    text =text.strip() # to remove the new lines \\n\n",
    "    prices.append(text)\n",
    "  \n",
    "print(prices)\n"
   ]
  },
  {
   "cell_type": "code",
   "execution_count": 79,
   "id": "interim-share",
   "metadata": {},
   "outputs": [
    {
     "data": {
      "text/plain": [
       "bs4.element.ResultSet"
      ]
     },
     "execution_count": 79,
     "metadata": {},
     "output_type": "execute_result"
    }
   ],
   "source": [
    "all = soup.find_all('div',{'class':'property-card-primary-info'})\n",
    "prices = all[0].find_all('a',{'class':'listing-price'})\n",
    "print(all)\n",
    "\n",
    "# all is a series so we have to loop on it\n",
    "data = []\n",
    "for item in all:\n",
    "        d = {}\n",
    "        d['price'] = item.find_all('a',{'class':'listing-price'})[0].text.strip()\n",
    "        data.append(d)\n",
    "        \n",
    "\n",
    "#prices = all[0].find_all('a',{'class':'listing-price'})\n",
    "\n",
    "print(data)"
   ]
  },
  {
   "cell_type": "code",
   "execution_count": 54,
   "id": "complete-customs",
   "metadata": {},
   "outputs": [
    {
     "name": "stdout",
     "output_type": "stream",
     "text": [
      "['1307 W 2nd St', '344 P Street', '420 Soulsby', '1225 Crown Point Way', '340 Flagstone Drive', '821 Rugby', '1129 Hilltop Drive']\n"
     ]
    }
   ],
   "source": [
    "all_addresses = soup.find_all('div',{'class' : 'property-address'})\n",
    "addresses = []\n",
    "for add in all_addresses:\n",
    "    add = add.text.strip() # to remove the new lines \\n\n",
    "    addresses.append(add)\n",
    "\n",
    "\n",
    "print(addresses)"
   ]
  }
 ],
 "metadata": {
  "kernelspec": {
   "display_name": "Python 3",
   "language": "python",
   "name": "python3"
  },
  "language_info": {
   "codemirror_mode": {
    "name": "ipython",
    "version": 3
   },
   "file_extension": ".py",
   "mimetype": "text/x-python",
   "name": "python",
   "nbconvert_exporter": "python",
   "pygments_lexer": "ipython3",
   "version": "3.9.1"
  }
 },
 "nbformat": 4,
 "nbformat_minor": 5
}
